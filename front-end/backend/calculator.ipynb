{
 "cells": [
  {
   "cell_type": "code",
   "execution_count": null,
   "id": "69d19854-9a2e-4ba4-9ba9-1bd34dc386c7",
   "metadata": {},
   "outputs": [],
   "source": [
    "import yfinance as yf\n",
    "from pandas.tseries.offsets import DateOffset\n",
    "\n",
    "def investment_calc(ticker, period, amount):\n",
    "    price_history = yf.Ticker(ticker).history(period='10y', interval='1d', actions=False)\n",
    "    # get the current stock price\n",
    "    current_price = price_history[\"Close\"][-1]\n",
    "    # get the previous price\n",
    "    prev_date = (price_history.index.max()-DateOffset(weeks=int(period) * 52)).to_pydatetime()\n",
    "    prev_price = price_history.loc[prev_date]\n",
    "    # calculate the relationship between current and previous prices\n",
    "    ratio = current_price / prev_price\n",
    "    today_value = int(amount) * ratio.Close\n",
    "    return str(today_value)"
   ]
  }
 ],
 "metadata": {
  "kernelspec": {
   "display_name": "Python 3",
   "language": "python",
   "name": "python3"
  },
  "language_info": {
   "codemirror_mode": {
    "name": "ipython",
    "version": 3
   },
   "file_extension": ".py",
   "mimetype": "text/x-python",
   "name": "python",
   "nbconvert_exporter": "python",
   "pygments_lexer": "ipython3",
   "version": "3.9.7 (tags/v3.9.7:1016ef3, Aug 30 2021, 20:19:38) [MSC v.1929 64 bit (AMD64)]"
  },
  "vscode": {
   "interpreter": {
    "hash": "192acaf832a48bbdc829e7a98bd6e0f9f46760e93cbb05d4db8a0464d288bfb4"
   }
  }
 },
 "nbformat": 4,
 "nbformat_minor": 5
}
