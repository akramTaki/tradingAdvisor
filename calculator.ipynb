{
 "cells": [
  {
   "cell_type": "code",
   "execution_count": 2,
   "id": "69d19854-9a2e-4ba4-9ba9-1bd34dc386c7",
   "metadata": {},
   "outputs": [
    {
     "name": "stdout",
     "output_type": "stream",
     "text": [
      "10615.732162826009\n"
     ]
    }
   ],
   "source": [
    "import pandas as pd\n",
    "import numpy as np\n",
    "import yfinance as yf\n",
    "from pandas.tseries.offsets import DateOffset\n",
    "from sklearn.preprocessing import StandardScaler\n",
    "import matplotlib.pyplot as plt\n",
    "import hvplot.pandas\n",
    "\n",
    "def investment_calc(ticker, period, amount):\n",
    "    price_history = yf.Ticker(ticker).history(period='10y', # valid periods: 1d,5d,1mo,3mo,6mo,1y,2y,5y,10y,ytd,max\n",
    "                                       interval='1d', # valid intervals: 1m,2m,5m,15m,30m,60m,90m,1h,1d,5d,1wk,1mo,3mo\n",
    "                                       actions=False)\n",
    "    # get the current stock price\n",
    "    current_price = price_history[\"Close\"][-1]\n",
    "\n",
    "    # get the previous price\n",
    "    prev_date = (price_history.index.max()-DateOffset(weeks=period * 52)).to_pydatetime()\n",
    "    prev_price = price_history.loc[prev_date]\n",
    "\n",
    "    # calculate the relationship between current and previous prices\n",
    "    ratio = current_price / prev_price\n",
    "    \n",
    "    today_value = amount * ratio.Close\n",
    "    \n",
    "    return today_value\n",
    "\n",
    "x = investment_calc('TSLA', 5, 1000)\n",
    "print(x)"
   ]
  },
  {
   "cell_type": "code",
   "execution_count": null,
   "id": "d05ae03f-85b7-42f9-b59f-45599c84fbba",
   "metadata": {},
   "outputs": [],
   "source": []
  }
 ],
 "metadata": {
  "kernelspec": {
   "display_name": "Python 3 (ipykernel)",
   "language": "python",
   "name": "python3"
  },
  "language_info": {
   "codemirror_mode": {
    "name": "ipython",
    "version": 3
   },
   "file_extension": ".py",
   "mimetype": "text/x-python",
   "name": "python",
   "nbconvert_exporter": "python",
   "pygments_lexer": "ipython3",
   "version": "3.9.7"
  }
 },
 "nbformat": 4,
 "nbformat_minor": 5
}
